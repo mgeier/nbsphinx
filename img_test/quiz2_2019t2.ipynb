{
 "cells": [
  {
   "cell_type": "markdown",
   "metadata": {},
   "source": [
    "# Try an image"
   ]
  },
  {
   "cell_type": "markdown",
   "metadata": {
    "ctype": "question",
    "key": "A",
    "qnum": "2"
   },
   "source": [
    "Q2) For this feedback loop\n",
    "\n",
    "<img src=\"media/quiz2_media/feedback_lapse_rate.png\" style=\"width:4.62205in;height:1.50394in\" />"
   ]
  }
 ],
 "metadata": {
  "header_metadata": {
   "chead": "Quiz 2, February 27, 2020",
   "lhead": "EOSC 340"
  },
  "jupytext": {
   "cell_metadata_filter": "all",
   "cell_metadata_json": true,
   "encoding": "# -*- coding: utf-8 -*-",
   "formats": "ipynb,md:myst",
   "notebook_metadata_filter": "all,-language_info,-toc,-latex_envs"
  },
  "kernelspec": {
   "display_name": "Python 3",
   "language": "python",
   "name": "python3"
  },
  "language_info": {
   "codemirror_mode": {
    "name": "ipython",
    "version": 3
   },
   "file_extension": ".py",
   "mimetype": "text/x-python",
   "name": "python",
   "nbconvert_exporter": "python",
   "pygments_lexer": "ipython3",
   "version": "3.7.6"
  },
  "toc": {
   "base_numbering": 1,
   "nav_menu": {},
   "number_sections": true,
   "sideBar": true,
   "skip_h1_title": false,
   "title_cell": "Table of Contents",
   "title_sidebar": "Contents",
   "toc_cell": false,
   "toc_position": {},
   "toc_section_display": true,
   "toc_window_display": true
  }
 },
 "nbformat": 4,
 "nbformat_minor": 4
}
